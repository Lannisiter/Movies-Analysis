{
 "cells": [
  {
   "cell_type": "markdown",
   "metadata": {},
   "source": [
    "#### 导入所用模块"
   ]
  },
  {
   "cell_type": "code",
   "execution_count": 1,
   "metadata": {},
   "outputs": [
    {
     "name": "stderr",
     "output_type": "stream",
     "text": [
      "UsageError: Line magic function `%` not found.\n"
     ]
    }
   ],
   "source": [
    "%matplotlib inline\n",
    "import numpy as np\n",
    "import pandas as pd\n",
    "import matplotlib.pyplot as plt"
   ]
  },
  {
   "cell_type": "markdown",
   "metadata": {},
   "source": [
    "#### 读取电影的评分及星数分布数据"
   ]
  },
  {
   "cell_type": "code",
   "execution_count": null,
   "metadata": {},
   "outputs": [],
   "source": [
    "weighted_ratings = pd.read_table('weighted_ratings.txt', header=None)\n",
    "weighted_ratings.rename(columns={0: 'Name', 1: 'IDs', 2: 'Year', 3: 'Ratings', 4: 'Ratings_Count', \n",
    "                      5: '5star', 6: '4star', 7: '3star', 8: '2star', 9: '1star'}, inplace=True)\n",
    "del weighted_ratings[10]\n",
    "\n",
    "print(len(weighted_ratings))\n",
    "weighted_ratings.head()"
   ]
  },
  {
   "cell_type": "markdown",
   "metadata": {},
   "source": [
    "#### 读取电影的票房数据"
   ]
  },
  {
   "cell_type": "code",
   "execution_count": null,
   "metadata": {},
   "outputs": [],
   "source": [
    "boxings = pd.read_table('boxings.txt', header=None)\n",
    "boxings.rename(columns={0: 'Name', 1: 'Boxing'}, inplace=True)\n",
    "\n",
    "print(len(boxings))\n",
    "boxings.head()"
   ]
  },
  {
   "cell_type": "markdown",
   "metadata": {},
   "source": [
    "#### 读取电影的评分人数，看过人数，想看人数，短评数，影评数"
   ]
  },
  {
   "cell_type": "code",
   "execution_count": null,
   "metadata": {},
   "outputs": [],
   "source": [
    "movies_info = pd.read_table('movies_information.txt', header=None)\n",
    "movies_info.rename(columns={0: 'Name', 1: 'IDs', 2: 'Ratings_Count', 3: 'Wish_Count', \n",
    "                           4: 'Collect_Count', 5: 'Year', 6: 'Comments_Count', \n",
    "                            7: 'Reviews_Count', 8: 'Genres'}, inplace=True)\n",
    "print(len(movies_info))\n",
    "movies_info.head()"
   ]
  },
  {
   "cell_type": "markdown",
   "metadata": {},
   "source": [
    "#### 整理、清洗数据，得到包含所有电影全部信息的大表"
   ]
  },
  {
   "cell_type": "code",
   "execution_count": null,
   "metadata": {},
   "outputs": [],
   "source": [
    "temp = pd.merge(movies_info, weighted_ratings, on='Name')\n",
    "del temp['IDs_x']\n",
    "del temp['Ratings_Count_x']\n",
    "del temp['Year_x']\n",
    "temp.rename(columns={'IDs_y': 'IDs', 'Year_y': 'Year', 'Ratings_Count_y': 'Ratings_Count'}, inplace=True)\n",
    "\n",
    "print(len(temp))\n",
    "temp.head()"
   ]
  },
  {
   "cell_type": "markdown",
   "metadata": {},
   "source": [
    "temp.drop_duplicates('Name') 执行之后直接删除重复数据  temp.duplicated('Name') 将重复数据标记为True  \n",
    "查看重复数据可执行temp[temp.duplicated('Name')==True]"
   ]
  },
  {
   "cell_type": "code",
   "execution_count": null,
   "metadata": {},
   "outputs": [],
   "source": [
    "temp.drop_duplicates('Name')"
   ]
  },
  {
   "cell_type": "code",
   "execution_count": null,
   "metadata": {},
   "outputs": [],
   "source": [
    "movies = pd.merge(temp, boxings, on='Name')\n",
    "\n",
    "print(len(movies))\n",
    "movies.head()"
   ]
  },
  {
   "cell_type": "code",
   "execution_count": null,
   "metadata": {},
   "outputs": [],
   "source": [
    "movies.drop_duplicates('Name')"
   ]
  },
  {
   "cell_type": "markdown",
   "metadata": {},
   "source": [
    "#### 清洗数据，筛选出所有有票房记录的电影数据 movies_with_boxings = movies[~movies['Boxing'].isnull()]  其中的~为取反\n",
    "\n",
    "也可以直接movies_with_boxings = movies[movies['Boxing'].notnull()]\n",
    "eval将字符串str当成有效的表达式来求值并返回计算结果。\n",
    " 字符串转换成列表\n",
    " 4 >>>a = \"[[1,2], [3,4], [5,6], [7,8], [9,0]]\"\n",
    " 5 >>>type(a)\n",
    " 6 <type 'str'>\n",
    " 7 >>> b = eval(a)\n",
    " 8 >>> print b\n",
    " 9 [[1, 2], [3, 4], [5, 6], [7, 8], [9, 0]]\n",
    "10 >>> type(b)\n",
    "11 <type 'list'>\n",
    "\n",
    "字符串转换成字典\n",
    "14 >>> a = \"{1: 'a', 2: 'b'}\"\n",
    "15 >>> type(a)\n",
    "16 <type 'str'>\n",
    "17 >>> b = eval(a)\n",
    "18 >>> print b\n",
    "19 {1: 'a', 2: 'b'}\n",
    "20 >>> type(b)\n",
    "21 <type 'dict'>\n",
    "\n",
    "x[:-1]取 '0.3万'从0到倒数第一个 取到的是0.3  之后用eval('0.3') 转化之后为0.3 float类型"
   ]
  },
  {
   "cell_type": "code",
   "execution_count": null,
   "metadata": {},
   "outputs": [],
   "source": [
    "movies_with_boxings = movies[~movies['Boxing'].isnull()]\n",
    "movies_with_boxings['Boxing'] = movies_with_boxings['Boxing'].apply(lambda x: eval(x[:-1]))\n",
    "\n",
    "print(len(movies_with_boxings))\n",
    "movies_with_boxings.head()"
   ]
  },
  {
   "cell_type": "markdown",
   "metadata": {},
   "source": [
    "#### 清洗数据，在拥有票房纪录的电影中再清洗出有详细统计数据的电影数据\n",
    "处理 NA 的方法有四种：dropna , fillna , isnull , notnull。\n",
    "对于一个 Series，dropna 返回一个仅含非空数据和索引值的 Series。\n",
    "对 DataFrame 的处理方式dropna(axis=0, how='any', thresh=None) ，how 参数可选的值为 any 或者 all。all 仅在切片元素全为 NA 时才抛弃该行(列)。另外一个有趣的参数是 thresh，该参数的类型为整数，它的作用是，比如 thresh=3，会在一行中至少有 3 个非 NA 值时将其保留。\n",
    "\n",
    "fillna(value=None, method=None, axis=0) 中的 value 参数除了基本类型外，还可以使用字典，这样可以实现对不同的列填充不同的值。method 的用法与前面 .reindex() 方法相同，method:{'backfill', 'bfill', 'pad', 'ffill', None} 参数用于指定插值（填充）方式"
   ]
  },
  {
   "cell_type": "code",
   "execution_count": null,
   "metadata": {},
   "outputs": [],
   "source": [
    "complete_data = movies_with_boxings.dropna()\n",
    "complete_data"
   ]
  },
  {
   "cell_type": "markdown",
   "metadata": {},
   "source": [
    "#### 随机挑选出150部电影数据作为测试集，其余数据作为训练集\n",
    "test_set_index = [False] * len(complete_data) 建立一个false的列表\n",
    "之后将其中150个置为True"
   ]
  },
  {
   "cell_type": "code",
   "execution_count": null,
   "metadata": {},
   "outputs": [],
   "source": [
    "import random\n",
    "\n",
    "test_set_index = [False] * len(complete_data)\n",
    "selected_index = random.sample(list(range(len(complete_data))), 150)\n",
    "for i in selected_index:\n",
    "    test_set_index[i] = True\n",
    "\n",
    "train_set_index = [False] * len(complete_data)\n",
    "for i in range(len(train_set_index)):\n",
    "    train_set_index[i] = not test_set_index[i]"
   ]
  },
  {
   "cell_type": "code",
   "execution_count": null,
   "metadata": {},
   "outputs": [],
   "source": [
    "test_set = complete_data[test_set_index]\n",
    "train_set = complete_data[train_set_index]"
   ]
  },
  {
   "cell_type": "code",
   "execution_count": null,
   "metadata": {},
   "outputs": [],
   "source": [
    "print(len(test_set))\n",
    "print(len(train_set))"
   ]
  },
  {
   "cell_type": "markdown",
   "metadata": {},
   "source": [
    "#### 将影片类型映射成分数的函数\n",
    "score[0,0,0,0,0,1,0   ...]21个  将电影类型转换成 k of 1类型"
   ]
  },
  {
   "cell_type": "code",
   "execution_count": null,
   "metadata": {},
   "outputs": [],
   "source": [
    "def type_score(s):\n",
    "    assert type(s) == str\n",
    "    types = s.split('/')\n",
    "    if types[-1] == '':\n",
    "        types.pop()\n",
    "    score = [0] * 21\n",
    "    for x in types:\n",
    "        if x == '剧情':\n",
    "            score[0] = 1\n",
    "        elif x == '爱情':\n",
    "            score[1] = 1\n",
    "        elif x == '喜剧':\n",
    "            score[2] = 1\n",
    "        elif x == '动作':\n",
    "            score[3] = 1\n",
    "        elif x == '犯罪':\n",
    "            score[4] = 1\n",
    "        elif x == '科幻':\n",
    "            score[5] = 1\n",
    "        elif x == '惊悚':\n",
    "            score[6] = 1\n",
    "        elif x == '儿童':\n",
    "            score[7] = 1\n",
    "        elif x == '动画':\n",
    "            score[8] = 1\n",
    "        elif x == '悬疑':\n",
    "            score[9] = 1\n",
    "        elif x == '历史':\n",
    "            score[10] = 1\n",
    "        elif x == '战争':\n",
    "            score[11] = 1\n",
    "        elif x == '传记':\n",
    "            score[12] = 1\n",
    "        elif x == '纪录片':\n",
    "            score[13] = 1\n",
    "        elif x == '武侠':\n",
    "            score[14] = 1\n",
    "        elif x == '奇幻':\n",
    "            score[15] = 1\n",
    "        elif x == '冒险':\n",
    "            score[16] = 1\n",
    "        elif x == '运动':\n",
    "            score[17] = 1\n",
    "        elif x == '音乐':\n",
    "            score[18] = 1\n",
    "        elif x == '家庭':\n",
    "            score[19] = 1\n",
    "        elif x == '西部':\n",
    "            score[20] = 1\n",
    "    return score"
   ]
  },
  {
   "cell_type": "markdown",
   "metadata": {},
   "source": [
    "#### 整理训练集数据  \n",
    "train_set.head()\n",
    "        Name  Wish_Count  Collect_Count  Comments_Count  Reviews_Count  \\\n",
    "14      没事偷着乐      2056.0        30869.0          2402.0           40.0\n",
    "16     缘，妙不可言       249.0        13276.0           926.0            5.0\n",
    "19        宝莲灯       113.0        13726.0          2550.0           29.0\n",
    "因为train_set.iloc中的索引值已经改变 不在从1开始  相当于你不知道第一个索引是什么 所以不能用ix 或loc 只能用iloc\n",
    "loc是根据dataframe的具体标签选取列，而iloc是根据标签所在的位置，从0开始计数。\n",
    "df = df.loc[:, ['A', 'C']] \n",
    "df = df.iloc[:, [0, 2]]\n",
    "\n",
    "item为Series类型"
   ]
  },
  {
   "cell_type": "code",
   "execution_count": null,
   "metadata": {},
   "outputs": [],
   "source": [
    "x_train, y_train = [], []\n",
    "\n",
    "for i in range(len(train_set)):\n",
    "    item = train_set.iloc[i]\n",
    "    current_movie = []\n",
    "    current_movie.append(item['Wish_Count'])\n",
    "    current_movie.append(item['Collect_Count'])\n",
    "    current_movie.append(item['Comments_Count'])\n",
    "    current_movie.append(item['Reviews_Count'])\n",
    "    current_movie.append(item['Year'])\n",
    "    current_movie.append(item['Ratings'])\n",
    "    current_movie.append(item['Ratings_Count'])\n",
    "    current_movie.append(item['5star'])\n",
    "    current_movie.append(item['4star'])\n",
    "    current_movie.append(item['3star'])\n",
    "    current_movie.append(item['2star'])\n",
    "    current_movie.append(item['1star'])\n",
    "    current_movie += type_score(item['Genres'])\n",
    "    x_train.append(current_movie)\n",
    "    y_train.append(item['Boxing'])\n",
    "x_train[0]"
   ]
  },
  {
   "cell_type": "markdown",
   "metadata": {},
   "source": [
    "#### 整理测试集数据"
   ]
  },
  {
   "cell_type": "code",
   "execution_count": null,
   "metadata": {},
   "outputs": [],
   "source": [
    "x_test, y_test = [], []\n",
    "\n",
    "for i in range(len(test_set)):\n",
    "    item = test_set.iloc[i]\n",
    "    current_movie = []\n",
    "    current_movie.append(item['Wish_Count'])\n",
    "    current_movie.append(item['Collect_Count'])\n",
    "    current_movie.append(item['Comments_Count'])\n",
    "    current_movie.append(item['Reviews_Count'])\n",
    "    current_movie.append(item['Year'])\n",
    "    current_movie.append(item['Ratings'])\n",
    "    current_movie.append(item['Ratings_Count'])\n",
    "    current_movie.append(item['5star'])\n",
    "    current_movie.append(item['4star'])\n",
    "    current_movie.append(item['3star'])\n",
    "    current_movie.append(item['2star'])\n",
    "    current_movie.append(item['1star'])\n",
    "    current_movie += type_score(item['Genres'])\n",
    "    x_test.append(current_movie)\n",
    "    y_test.append(item['Boxing'])"
   ]
  },
  {
   "cell_type": "markdown",
   "metadata": {},
   "source": [
    "#### 调用各种回归方法的展示接口函数"
   ]
  },
  {
   "cell_type": "code",
   "execution_count": null,
   "metadata": {},
   "outputs": [],
   "source": [
    "def check_regression_model_outcome(model):\n",
    "    model.fit(x_train, y_train)\n",
    "    result = model.predict(x_test)\n",
    "    plt.figure()\n",
    "    plt.plot(np.arange(len(result)), y_test, 'b-', label='true value')\n",
    "    plt.plot(np.arange(len(result)), result, 'r-', label='predict value')\n",
    "    score = model.score(x_test, y_test)\n",
    "    plt.title('score: %f' % score)\n",
    "    plt.legend()\n",
    "    plt.show()"
   ]
  },
  {
   "cell_type": "markdown",
   "metadata": {},
   "source": [
    "#### 决策树回归"
   ]
  },
  {
   "cell_type": "code",
   "execution_count": null,
   "metadata": {},
   "outputs": [],
   "source": [
    "from sklearn import tree\n",
    "decision_tree_regressor = tree.DecisionTreeRegressor()\n",
    "check_regression_model_outcome(decision_tree_regressor)"
   ]
  },
  {
   "cell_type": "markdown",
   "metadata": {},
   "source": [
    "#### 线性回归"
   ]
  },
  {
   "cell_type": "code",
   "execution_count": null,
   "metadata": {},
   "outputs": [],
   "source": [
    "from sklearn import linear_model\n",
    "linear_regression = linear_model.LinearRegression()\n",
    "check_regression_model_outcome(linear_regression)"
   ]
  },
  {
   "cell_type": "markdown",
   "metadata": {},
   "source": [
    "#### KNN回归"
   ]
  },
  {
   "cell_type": "code",
   "execution_count": null,
   "metadata": {},
   "outputs": [],
   "source": [
    "from sklearn import neighbors\n",
    "k_neighbors_regressor = neighbors.KNeighborsRegressor()\n",
    "check_regression_model_outcome(k_neighbors_regressor)"
   ]
  },
  {
   "cell_type": "markdown",
   "metadata": {},
   "source": [
    "#### 随机森林回归"
   ]
  },
  {
   "cell_type": "code",
   "execution_count": null,
   "metadata": {},
   "outputs": [],
   "source": [
    "from sklearn import ensemble\n",
    "random_forest_regressor = ensemble.RandomForestRegressor()\n",
    "check_regression_model_outcome(random_forest_regressor)"
   ]
  },
  {
   "cell_type": "markdown",
   "metadata": {},
   "source": [
    "#### Adaboost回归"
   ]
  },
  {
   "cell_type": "code",
   "execution_count": null,
   "metadata": {},
   "outputs": [],
   "source": [
    "from sklearn import ensemble\n",
    "AdaBoost_regressor = ensemble.AdaBoostRegressor(n_estimators=5)\n",
    "check_regression_model_outcome(AdaBoost_regressor)"
   ]
  },
  {
   "cell_type": "markdown",
   "metadata": {},
   "source": [
    "#### GBRT回归"
   ]
  },
  {
   "cell_type": "code",
   "execution_count": null,
   "metadata": {},
   "outputs": [],
   "source": [
    "from sklearn import ensemble\n",
    "GradientBoosting_regressor = ensemble.GradientBoostingRegressor()\n",
    "check_regression_model_outcome(GradientBoosting_regressor)"
   ]
  },
  {
   "cell_type": "markdown",
   "metadata": {},
   "source": [
    "#### Bagging回归"
   ]
  },
  {
   "cell_type": "code",
   "execution_count": null,
   "metadata": {},
   "outputs": [],
   "source": [
    "from sklearn.ensemble import BaggingRegressor\n",
    "bagging_regressor = BaggingRegressor()\n",
    "check_regression_model_outcome(bagging_regressor)"
   ]
  },
  {
   "cell_type": "markdown",
   "metadata": {},
   "source": [
    "#### ExtraTree极端随机树回归"
   ]
  },
  {
   "cell_type": "code",
   "execution_count": null,
   "metadata": {},
   "outputs": [],
   "source": [
    "from sklearn.tree import ExtraTreeRegressor\n",
    "extra_tree_regressor = ExtraTreeRegressor()\n",
    "check_regression_model_outcome(extra_tree_regressor)"
   ]
  },
  {
   "cell_type": "code",
   "execution_count": null,
   "metadata": {},
   "outputs": [],
   "source": [
    "plt.figure(figsize=(10, 8))\n",
    "\n",
    "decision_tree_regressor.fit(x_train, y_train)\n",
    "result = decision_tree_regressor.predict(x_test)\n",
    "plt.plot(np.arange(len(result)), (result - y_test), 'g-', label='Decision Tree Regression')\n",
    "\n",
    "linear_regression.fit(x_train, y_train)\n",
    "result = linear_regression.predict(x_test)\n",
    "plt.plot(np.arange(len(result)), (result - y_test), 'b-', label='Linear Regression')\n",
    "\n",
    "k_neighbors_regressor.fit(x_train, y_train)\n",
    "result = k_neighbors_regressor.predict(x_test)\n",
    "plt.plot(np.arange(len(result)), (result - y_test), 'r-', label='KNN Regression')\n",
    "\n",
    "random_forest_regressor.fit(x_train, y_train)\n",
    "result = random_forest_regressor.predict(x_test)\n",
    "plt.plot(np.arange(len(result)), (result - y_test), 'c-', label='Random Forest Regression')\n",
    "\n",
    "AdaBoost_regressor.fit(x_train, y_train)\n",
    "result = AdaBoost_regressor.predict(x_test)\n",
    "plt.plot(np.arange(len(result)), (result - y_test), 'm-', label='AdaBoost Regression')\n",
    "\n",
    "GradientBoosting_regressor.fit(x_train, y_train)\n",
    "result = GradientBoosting_regressor.predict(x_test)\n",
    "plt.plot(np.arange(len(result)), (result - y_test), 'k-', label='GradientBoosting Regression')\n",
    "\n",
    "bagging_regressor.fit(x_train, y_train)\n",
    "result = bagging_regressor.predict(x_test)\n",
    "plt.plot(np.arange(len(result)), (result - y_test), 'y-', label='Bagging Regression')\n",
    "\n",
    "extra_tree_regressor.fit(x_train, y_train)\n",
    "result = extra_tree_regressor.predict(x_test)\n",
    "plt.plot(np.arange(len(result)), (result - y_test), color='violet', label='Extra Tree Regression')\n",
    "\n",
    "plt.legend()\n",
    "plt.show()"
   ]
  },
  {
   "cell_type": "markdown",
   "metadata": {},
   "source": [
    "#### 从各归类方法的score值来看，决策树回归、随机森林回归、GBRT回归、Bagging回归有相对比较好的拟合结果。"
   ]
  },
  {
   "cell_type": "markdown",
   "metadata": {},
   "source": [
    "#### 封装单部电影预测票房的函数"
   ]
  },
  {
   "cell_type": "code",
   "execution_count": null,
   "metadata": {},
   "outputs": [],
   "source": [
    "def single_movie_boxing(movie_name):\n",
    "    single_movie = complete_data[complete_data['Name'] == movie_name]\n",
    "\n",
    "    single_test_data = []\n",
    "\n",
    "    item = single_movie.iloc[0]\n",
    "    current_movie = []\n",
    "    current_movie.append(item['Wish_Count'])\n",
    "    current_movie.append(item['Collect_Count'])\n",
    "    current_movie.append(item['Comments_Count'])\n",
    "    current_movie.append(item['Reviews_Count'])\n",
    "    current_movie.append(item['Year'])\n",
    "    current_movie.append(item['Ratings'])\n",
    "    current_movie.append(item['Ratings_Count'])\n",
    "    current_movie.append(item['5star'])\n",
    "    current_movie.append(item['4star'])\n",
    "    current_movie.append(item['3star'])\n",
    "    current_movie.append(item['2star'])\n",
    "    current_movie.append(item['1star'])\n",
    "    current_movie += type_score(item['Genres'])\n",
    "\n",
    "    single_test_data.append(current_movie)\n",
    "    \n",
    "    result1 = decision_tree_regressor.predict(single_test_data)\n",
    "    result2 = random_forest_regressor.predict(single_test_data)\n",
    "    result3 = GradientBoosting_regressor.predict(single_test_data)\n",
    "    result4 = bagging_regressor.predict(single_test_data)\n",
    "\n",
    "    outcome = [result1, result2, result3, result4, item['Boxing']]\n",
    "    \n",
    "    plt.bar(np.arange(5), outcome)\n",
    "    plt.xticks(np.arange(5), ['DecisionTree', 'RandomForest', 'GBRT', 'Bagging', 'Actual'],rotation='vertical')\n",
    "    plt.show()"
   ]
  },
  {
   "cell_type": "code",
   "execution_count": null,
   "metadata": {
    "scrolled": true
   },
   "outputs": [],
   "source": [
    "single_movie_boxing('谍影重重5')"
   ]
  },
  {
   "cell_type": "code",
   "execution_count": null,
   "metadata": {
    "scrolled": true
   },
   "outputs": [],
   "source": [
    "complete_data[complete_data['Name'] == '谍影重重5']"
   ]
  },
  {
   "cell_type": "code",
   "execution_count": null,
   "metadata": {
    "scrolled": false
   },
   "outputs": [],
   "source": [
    "single_movie_boxing('你的名字。')"
   ]
  },
  {
   "cell_type": "code",
   "execution_count": null,
   "metadata": {
    "scrolled": true
   },
   "outputs": [],
   "source": [
    "complete_data[complete_data['Name'] == '你的名字。']"
   ]
  },
  {
   "cell_type": "code",
   "execution_count": null,
   "metadata": {
    "scrolled": false
   },
   "outputs": [],
   "source": [
    "single_movie_boxing('美国队长3')"
   ]
  },
  {
   "cell_type": "code",
   "execution_count": null,
   "metadata": {
    "scrolled": false
   },
   "outputs": [],
   "source": [
    "complete_data[complete_data['Name'] == '美国队长3']"
   ]
  },
  {
   "cell_type": "code",
   "execution_count": null,
   "metadata": {
    "scrolled": true
   },
   "outputs": [],
   "source": [
    "single_movie_boxing('速度与激情7')"
   ]
  },
  {
   "cell_type": "code",
   "execution_count": null,
   "metadata": {
    "scrolled": false
   },
   "outputs": [],
   "source": [
    "complete_data[complete_data['Name'] == '速度与激情7']"
   ]
  },
  {
   "cell_type": "code",
   "execution_count": null,
   "metadata": {
    "scrolled": false
   },
   "outputs": [],
   "source": [
    "single_movie_boxing('速度与激情8')"
   ]
  },
  {
   "cell_type": "code",
   "execution_count": null,
   "metadata": {
    "scrolled": true
   },
   "outputs": [],
   "source": [
    "complete_data[complete_data['Name'] == '速度与激情8']"
   ]
  },
  {
   "cell_type": "code",
   "execution_count": null,
   "metadata": {
    "scrolled": true
   },
   "outputs": [],
   "source": [
    "single_movie_boxing('变形金刚5：最后的骑士')"
   ]
  },
  {
   "cell_type": "code",
   "execution_count": null,
   "metadata": {
    "scrolled": false
   },
   "outputs": [],
   "source": [
    "complete_data[complete_data['Name'] == '变形金刚5：最后的骑士']"
   ]
  },
  {
   "cell_type": "markdown",
   "metadata": {},
   "source": [
    "* **根据以上各个维度的数据对一部电影的票房的预测有一定的参考价值**\n",
    "* **大IP的背书效应可能会造成实际票房远远超出预测值的情况出现**"
   ]
  },
  {
   "cell_type": "code",
   "execution_count": null,
   "metadata": {},
   "outputs": [],
   "source": [
    "movies_with_boxings.groupby('Year').mean()['Boxing'].plot(kind='bar')"
   ]
  },
  {
   "cell_type": "markdown",
   "metadata": {},
   "source": [
    "#### 2016年的电影的确表现不佳，按照本来的趋势，应该平均票房要远高于现在的值"
   ]
  },
  {
   "cell_type": "code",
   "execution_count": null,
   "metadata": {},
   "outputs": [],
   "source": [
    "def tag_in_genres(genres, tag):\n",
    "    assert type(genres) == str\n",
    "    assert type(tag) == str\n",
    "    types = genres.split('/')\n",
    "    if types[-1] == '':\n",
    "        types.pop()\n",
    "    if tag in types:\n",
    "        return 1\n",
    "    else:\n",
    "        return 0"
   ]
  },
  {
   "cell_type": "code",
   "execution_count": 2,
   "metadata": {},
   "outputs": [
    {
     "ename": "NameError",
     "evalue": "name 'complete_data' is not defined",
     "output_type": "error",
     "traceback": [
      "\u001b[1;31m---------------------------------------------------------------------------\u001b[0m",
      "\u001b[1;31mNameError\u001b[0m                                 Traceback (most recent call last)",
      "\u001b[1;32m<ipython-input-2-184666154a15>\u001b[0m in \u001b[0;36m<module>\u001b[1;34m\u001b[0m\n\u001b[0;32m     10\u001b[0m \u001b[1;33m\u001b[0m\u001b[0m\n\u001b[0;32m     11\u001b[0m \u001b[1;32mfor\u001b[0m \u001b[0mgenre\u001b[0m \u001b[1;32min\u001b[0m \u001b[0mall_type\u001b[0m\u001b[1;33m:\u001b[0m\u001b[1;33m\u001b[0m\u001b[1;33m\u001b[0m\u001b[0m\n\u001b[1;32m---> 12\u001b[1;33m     \u001b[0mcomplete_data\u001b[0m\u001b[1;33m[\u001b[0m\u001b[0mtype_name\u001b[0m\u001b[1;33m[\u001b[0m\u001b[0mgenre\u001b[0m\u001b[1;33m]\u001b[0m\u001b[1;33m]\u001b[0m \u001b[1;33m=\u001b[0m \u001b[0mcomplete_data\u001b[0m\u001b[1;33m[\u001b[0m\u001b[1;34m'Genres'\u001b[0m\u001b[1;33m]\u001b[0m\u001b[1;33m.\u001b[0m\u001b[0mapply\u001b[0m\u001b[1;33m(\u001b[0m\u001b[0mtag_in_genres\u001b[0m\u001b[1;33m,\u001b[0m \u001b[0margs\u001b[0m\u001b[1;33m=\u001b[0m\u001b[1;33m(\u001b[0m\u001b[0mgenre\u001b[0m\u001b[1;33m,\u001b[0m\u001b[1;33m)\u001b[0m\u001b[1;33m)\u001b[0m\u001b[1;33m\u001b[0m\u001b[1;33m\u001b[0m\u001b[0m\n\u001b[0m",
      "\u001b[1;31mNameError\u001b[0m: name 'complete_data' is not defined"
     ]
    }
   ],
   "source": [
    "all_type = ['剧情', '爱情', '喜剧', '动作', '犯罪', '科幻', '惊悚', \n",
    "            '儿童', '动画', '悬疑', '历史', '战争', '传记', '纪录片', \n",
    "            '武侠', '奇幻', '冒险', '运动', '音乐', '家庭', '西部']\n",
    "\n",
    "type_name = {'剧情': 'Feature', '爱情': 'Affectional', '喜剧': 'Comedy', '动作': 'Action', '犯罪': 'Crime', \n",
    "             '科幻': 'Science Fiction', '惊悚': 'Horror', '儿童': 'Juvenile', '动画': 'Animation', \n",
    "             '悬疑': 'Suspense', '历史': 'Historical', '战争': 'War', '传记': 'Biographical', '纪录片': 'Documentary', \n",
    "            '武侠': 'Swordsman', '奇幻': 'Fantasy', '冒险': 'Adventure', '运动': 'Sports', '音乐': 'Music', \n",
    "             '家庭': 'Family', '西部': 'Western'}\n",
    "\n",
    "for genre in all_type:\n",
    "    complete_data[type_name[genre]] = complete_data['Genres'].apply(tag_in_genres, args=(genre,))"
   ]
  },
  {
   "cell_type": "code",
   "execution_count": null,
   "metadata": {},
   "outputs": [],
   "source": [
    "complete_data.head()"
   ]
  },
  {
   "cell_type": "code",
   "execution_count": null,
   "metadata": {},
   "outputs": [],
   "source": [
    "types = ['Feature', 'Affectional', 'Comedy', 'Action', 'Crime', 'Science Fiction', \n",
    "         'Horror', 'Juvenile', 'Animation', 'Suspense', 'Historical', 'War', \n",
    "         'Biographical', 'Documentary', 'Swordsman', 'Fantasy', 'Adventure', \n",
    "         'Sports', 'Music', 'Family', 'Western']\n",
    "\n",
    "boxings = []\n",
    "for item in types:\n",
    "    movies = complete_data[complete_data[item] == 1]\n",
    "    average_boxing = movies['Boxing'].mean()\n",
    "    boxings.append(average_boxing)"
   ]
  },
  {
   "cell_type": "code",
   "execution_count": null,
   "metadata": {},
   "outputs": [],
   "source": [
    "plt.figure()\n",
    "plt.bar(np.arange(len(types)), boxings)\n",
    "plt.xticks(np.arange(len(types)), types, rotation='vertical')\n",
    "plt.show()"
   ]
  },
  {
   "cell_type": "markdown",
   "metadata": {},
   "source": [
    "#### 从类型划分上来看，科幻片是平均票房最高的电影类型，其次是动作片"
   ]
  }
 ],
 "metadata": {
  "kernelspec": {
   "display_name": "Python 3",
   "language": "python",
   "name": "python3"
  },
  "language_info": {
   "codemirror_mode": {
    "name": "ipython",
    "version": 3
   },
   "file_extension": ".py",
   "mimetype": "text/x-python",
   "name": "python",
   "nbconvert_exporter": "python",
   "pygments_lexer": "ipython3",
   "version": "3.7.4"
  }
 },
 "nbformat": 4,
 "nbformat_minor": 1
}
